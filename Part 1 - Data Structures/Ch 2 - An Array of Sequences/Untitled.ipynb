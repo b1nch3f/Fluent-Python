{
 "cells": [
  {
   "cell_type": "markdown",
   "id": "5dc8ba06-7db1-4adc-8b1f-d7625dc9bba6",
   "metadata": {
    "tags": []
   },
   "source": [
    "### Topics\n",
    "\n",
    "- List comprehensions and the basics of generator expressions\n",
    "- Using tuples as records versus using tuples as immutable lists\n",
    "- Sequence unpacking and sequence patterns\n",
    "- Reading from slices and writing to slices\n",
    "- Specialized sequence types, like arrays and queues"
   ]
  },
  {
   "cell_type": "markdown",
   "id": "a0b84a6a-51b1-4c5f-8466-3ebbb95c21ed",
   "metadata": {
    "tags": []
   },
   "source": [
    "#### Container sequences\n",
    "\n",
    "- Can hold items of different types, including nested containers\n",
    "    - list\n",
    "    - tuple \n",
    "    - deque\n",
    "    \n",
    "- A container sequence holds references to the objects it contains, which may be of any type\n",
    "    \n",
    "#### Flat sequences\n",
    "\n",
    "- Hold items of one simple type\n",
    "    - str\n",
    "    - bytes\n",
    "    - array\n",
    "    \n",
    "- A flat sequence stores the value of its contents in its own memory space not as distinct Python objects"
   ]
  },
  {
   "cell_type": "markdown",
   "id": "d7c67ac7-0d7b-438f-931b-17bd0cb7c064",
   "metadata": {},
   "source": [
    "<img src=\"fig2.1.png\" alt=\"Alternative text\" />"
   ]
  },
  {
   "cell_type": "markdown",
   "id": "62b4b8a2-72ca-4606-ad7b-ebedc2b72d36",
   "metadata": {},
   "source": [
    "Every Python object in memory has a header with metadata. A float, has a value field and two metadata fields:\n",
    "\n",
    "- ob_refcnt: the object’s reference count\n",
    "- ob_type: a pointer to the object’s type\n",
    "- ob_fval: a C double holding the value of the float\n",
    "\n",
    "#### Note: On a 64-bit Python build, each of those fields takes 8 bytes. Array of floats is much more compact than a tuple of floats"
   ]
  },
  {
   "cell_type": "markdown",
   "id": "833cc5a4-c50f-4d65-a93b-31eb67f8e948",
   "metadata": {},
   "source": [
    "##### Another way of grouping sequence types is by mutability:\n",
    "\n",
    "- Mutable sequences\n",
    "    - list\n",
    "    - bytearray\n",
    "    - array\n",
    "    - deque\n",
    "\n",
    "- Immutable sequences\n",
    "    - tuple\n",
    "    - str\n",
    "    - bytes"
   ]
  },
  {
   "cell_type": "markdown",
   "id": "fdc18e4f-774b-4383-b227-1c949a82dd63",
   "metadata": {},
   "source": [
    "#### List Comprehensions"
   ]
  },
  {
   "cell_type": "code",
   "execution_count": 1,
   "id": "74b0ca16-d1e5-4986-ae74-540b3bb45ca0",
   "metadata": {
    "tags": []
   },
   "outputs": [
    {
     "data": {
      "text/plain": [
       "[36, 162, 163, 165, 8364, 164]"
      ]
     },
     "execution_count": 1,
     "metadata": {},
     "output_type": "execute_result"
    }
   ],
   "source": [
    "symbols = '$¢£¥€¤'\n",
    "codes = []\n",
    "for symbol in symbols:\n",
    "    codes.append(ord(symbol))\n",
    "\n",
    "codes"
   ]
  },
  {
   "cell_type": "code",
   "execution_count": 2,
   "id": "3f23b3c4-266e-4a2c-be42-0e7f60f34bef",
   "metadata": {
    "tags": []
   },
   "outputs": [
    {
     "data": {
      "text/plain": [
       "[36, 162, 163, 165, 8364, 164]"
      ]
     },
     "execution_count": 2,
     "metadata": {},
     "output_type": "execute_result"
    }
   ],
   "source": [
    "symbols = '$¢£¥€¤'\n",
    "codes = [ord(symbol) for symbol in symbols]\n",
    "codes"
   ]
  },
  {
   "cell_type": "markdown",
   "id": "96d3e6e3-1e65-4519-ad07-9d035fda0524",
   "metadata": {},
   "source": [
    "##### Cartesian Products"
   ]
  },
  {
   "cell_type": "code",
   "execution_count": 4,
   "id": "9d389f81-921c-4b8d-a512-8b9e0283162e",
   "metadata": {
    "tags": []
   },
   "outputs": [
    {
     "data": {
      "text/plain": [
       "[('x1', 'y1'),\n",
       " ('x1', 'y2'),\n",
       " ('x1', 'y3'),\n",
       " ('x2', 'y1'),\n",
       " ('x2', 'y2'),\n",
       " ('x2', 'y3'),\n",
       " ('x3', 'y1'),\n",
       " ('x3', 'y2'),\n",
       " ('x3', 'y3')]"
      ]
     },
     "execution_count": 4,
     "metadata": {},
     "output_type": "execute_result"
    }
   ],
   "source": [
    "h = ['x1', 'x2', 'x3']\n",
    "v = ['y1', 'y2', 'y3']\n",
    "\n",
    "p = [(h_i, v_i) for h_i in h\n",
    "                for v_i in v]\n",
    "\n",
    "p"
   ]
  },
  {
   "cell_type": "markdown",
   "id": "66e2912c-49e9-4907-a483-431b06512b72",
   "metadata": {},
   "source": [
    "#### Generator Expressions\n",
    "\n",
    "- yields items one by one using the iterator protocol instead of building a whole list\n",
    "- Genexps use the same syntax as listcomps, but are enclosed in parentheses rather than brackets"
   ]
  },
  {
   "cell_type": "code",
   "execution_count": 8,
   "id": "66b0815f-e9c5-40af-bf88-85af0a1f7a65",
   "metadata": {
    "tags": []
   },
   "outputs": [
    {
     "name": "stdout",
     "output_type": "stream",
     "text": [
      "('x1', 'y1')\n",
      "('x1', 'y2')\n",
      "('x1', 'y3')\n",
      "('x2', 'y1')\n",
      "('x2', 'y2')\n",
      "('x2', 'y3')\n",
      "('x3', 'y1')\n",
      "('x3', 'y2')\n",
      "('x3', 'y3')\n"
     ]
    }
   ],
   "source": [
    "h = ['x1', 'x2', 'x3']\n",
    "v = ['y1', 'y2', 'y3']\n",
    "\n",
    "for item in ((h_i, v_i) for h_i in h\n",
    "                        for v_i in v):\n",
    "    print(item)"
   ]
  },
  {
   "cell_type": "markdown",
   "id": "e2aa1dc2-2b8d-441f-b601-e845845bb515",
   "metadata": {},
   "source": [
    "#### Tuples Are Not Just Immutable Lists"
   ]
  },
  {
   "cell_type": "markdown",
   "id": "f9b2081d-4833-42c7-992d-08212a2c4b34",
   "metadata": {},
   "source": [
    "##### Tuples as Records\n",
    "\n",
    "Sorting the tuple would destroy the information because the meaning of each field is given by its position in the tuple."
   ]
  },
  {
   "cell_type": "code",
   "execution_count": 9,
   "id": "70394411-5fa1-4471-a48e-c6873dbc9261",
   "metadata": {
    "tags": []
   },
   "outputs": [],
   "source": [
    "city, year, pop, chg, area = ('Tokyo', 2003, 32_450, 0.66, 8014)"
   ]
  },
  {
   "cell_type": "markdown",
   "id": "6c75e87a-4c75-4e61-ac3a-b4a0dd82feaf",
   "metadata": {},
   "source": [
    "##### Tuples as Immutable Lists\n",
    "\n",
    "- When you see a tuple in code, you know its length will never change\n",
    "- A tuple uses less memory than a list of the same length, and it allows Python to do some optimizations\n",
    "\n",
    "\n",
    "#### Note: The immutability of a tuple only applies to the references contained in it. References in a tuple cannot be deleted or replaced. But if one of those references points to a mutable object, and that object is changed, then the value of the tuple changes."
   ]
  },
  {
   "cell_type": "code",
   "execution_count": 11,
   "id": "63288bc8-ac42-4206-9d73-41be2340d6aa",
   "metadata": {
    "tags": []
   },
   "outputs": [
    {
     "name": "stdout",
     "output_type": "stream",
     "text": [
      "b: (10, 'alpha', [1, 2])\n",
      "before: True\n",
      "after: False\n",
      "b: (10, 'alpha', [1, 2, 99])\n"
     ]
    }
   ],
   "source": [
    "a = (10, 'alpha', [1, 2])\n",
    "b = (10, 'alpha', [1, 2])\n",
    "print(f'b: {b}')\n",
    "\n",
    "print(f'before: {a == b}')\n",
    "\n",
    "b[-1].append(99)\n",
    "print(f'after: {a == b}')\n",
    "\n",
    "print(f'b: {b}')"
   ]
  },
  {
   "cell_type": "markdown",
   "id": "6adfd9dc-29ba-47fc-ba2a-d2b372046337",
   "metadata": {},
   "source": [
    "#### If you want to determine explicitly if a tuple (or any object) has a fixed value, you can use the hash built-in"
   ]
  },
  {
   "cell_type": "code",
   "execution_count": 12,
   "id": "b50c5093-3a1c-4d84-bf90-ee71bd21e1e8",
   "metadata": {
    "tags": []
   },
   "outputs": [
    {
     "data": {
      "text/plain": [
       "-2975815331967661896"
      ]
     },
     "execution_count": 12,
     "metadata": {},
     "output_type": "execute_result"
    }
   ],
   "source": [
    "hash((10, 'alpha', (1, 2)))"
   ]
  },
  {
   "cell_type": "code",
   "execution_count": 13,
   "id": "966f2665-147d-4418-8147-1fab1e1955ba",
   "metadata": {
    "tags": []
   },
   "outputs": [
    {
     "ename": "TypeError",
     "evalue": "unhashable type: 'list'",
     "output_type": "error",
     "traceback": [
      "\u001b[1;31m---------------------------------------------------------------------------\u001b[0m",
      "\u001b[1;31mTypeError\u001b[0m                                 Traceback (most recent call last)",
      "Cell \u001b[1;32mIn[13], line 1\u001b[0m\n\u001b[1;32m----> 1\u001b[0m \u001b[38;5;28;43mhash\u001b[39;49m\u001b[43m(\u001b[49m\u001b[43m(\u001b[49m\u001b[38;5;241;43m10\u001b[39;49m\u001b[43m,\u001b[49m\u001b[43m \u001b[49m\u001b[38;5;124;43m'\u001b[39;49m\u001b[38;5;124;43malpha\u001b[39;49m\u001b[38;5;124;43m'\u001b[39;49m\u001b[43m,\u001b[49m\u001b[43m \u001b[49m\u001b[43m[\u001b[49m\u001b[38;5;241;43m1\u001b[39;49m\u001b[43m,\u001b[49m\u001b[43m \u001b[49m\u001b[38;5;241;43m2\u001b[39;49m\u001b[43m]\u001b[49m\u001b[43m)\u001b[49m\u001b[43m)\u001b[49m\n",
      "\u001b[1;31mTypeError\u001b[0m: unhashable type: 'list'"
     ]
    }
   ],
   "source": [
    "hash((10, 'alpha', [1, 2]))"
   ]
  },
  {
   "cell_type": "code",
   "execution_count": 14,
   "id": "4341423c-e169-44bf-8bb1-6af08bb29495",
   "metadata": {
    "tags": []
   },
   "outputs": [],
   "source": [
    "def fixed(o):\n",
    "    try:\n",
    "        hash(o)\n",
    "    except TypeError:\n",
    "        return False\n",
    "    return True"
   ]
  },
  {
   "cell_type": "code",
   "execution_count": 15,
   "id": "ac482b9d-4a51-4905-8ea8-15cc6775b15b",
   "metadata": {
    "tags": []
   },
   "outputs": [
    {
     "data": {
      "text/plain": [
       "True"
      ]
     },
     "execution_count": 15,
     "metadata": {},
     "output_type": "execute_result"
    }
   ],
   "source": [
    "fixed((10, 'alpha', (1, 2)))"
   ]
  },
  {
   "cell_type": "code",
   "execution_count": 16,
   "id": "77a36302-5dcf-4b4e-93c3-af9d98e6e6c0",
   "metadata": {
    "tags": []
   },
   "outputs": [
    {
     "data": {
      "text/plain": [
       "False"
      ]
     },
     "execution_count": 16,
     "metadata": {},
     "output_type": "execute_result"
    }
   ],
   "source": [
    "fixed((10, 'alpha', [1, 2]))"
   ]
  },
  {
   "cell_type": "markdown",
   "id": "4e144de1-ab64-44c0-9792-072ada1d17f9",
   "metadata": {},
   "source": [
    "#### Unpacking Sequences and Iterables"
   ]
  },
  {
   "cell_type": "code",
   "execution_count": 17,
   "id": "06243a2e-d083-4234-b3c6-6b61d2fbc7f1",
   "metadata": {
    "tags": []
   },
   "outputs": [],
   "source": [
    "city, year, pop, chg, area = ('Tokyo', 2003, 32_450, 0.66, 8014)"
   ]
  },
  {
   "cell_type": "markdown",
   "id": "02927e27-b475-4f91-8896-eb306e3c1325",
   "metadata": {},
   "source": [
    "##### Using * to Grab Excess Items\n",
    "##### Using _ as dummy variable"
   ]
  },
  {
   "cell_type": "code",
   "execution_count": 18,
   "id": "0c03933c-64d6-48ae-865c-34d29711b539",
   "metadata": {
    "tags": []
   },
   "outputs": [
    {
     "data": {
      "text/plain": [
       "'Tokyo'"
      ]
     },
     "execution_count": 18,
     "metadata": {},
     "output_type": "execute_result"
    }
   ],
   "source": [
    "city, *_ = ('Tokyo', 2003, 32_450, 0.66, 8014)\n",
    "city"
   ]
  },
  {
   "cell_type": "markdown",
   "id": "344baa3e-e9ff-42fa-be7e-cc07cf418717",
   "metadata": {},
   "source": [
    "##### Unpacking with * in Function Calls and Sequence Literals"
   ]
  },
  {
   "cell_type": "code",
   "execution_count": 19,
   "id": "f98eadd0-5aa9-4db4-94c5-1c552e63ac84",
   "metadata": {
    "tags": []
   },
   "outputs": [],
   "source": [
    "def fun(a, b, c, d, *rest):\n",
    "    return a, b, c, d, rest"
   ]
  },
  {
   "cell_type": "code",
   "execution_count": 20,
   "id": "d19b8225-353c-4e0f-987c-23e0b4bb1b54",
   "metadata": {
    "tags": []
   },
   "outputs": [
    {
     "data": {
      "text/plain": [
       "(1, 2, 3, 4, (5, 6))"
      ]
     },
     "execution_count": 20,
     "metadata": {},
     "output_type": "execute_result"
    }
   ],
   "source": [
    "fun(*[1, 2], 3, *range(4, 7))"
   ]
  },
  {
   "cell_type": "code",
   "execution_count": 21,
   "id": "0a53d11c-2680-4675-8936-1ec9c4e831db",
   "metadata": {
    "tags": []
   },
   "outputs": [],
   "source": [
    "a, b, c, d, *rest = *[1, 2], 3, *range(4, 7)"
   ]
  },
  {
   "cell_type": "code",
   "execution_count": 22,
   "id": "7bdafcf6-2b20-4bf8-bd90-873fcf1080ee",
   "metadata": {
    "tags": []
   },
   "outputs": [
    {
     "data": {
      "text/plain": [
       "(1, 2, 3, 4, 5, 6)"
      ]
     },
     "execution_count": 22,
     "metadata": {},
     "output_type": "execute_result"
    }
   ],
   "source": [
    "a, b, c, d, *rest"
   ]
  },
  {
   "cell_type": "code",
   "execution_count": 26,
   "id": "b872b9cb-88ab-41dc-853e-0b2fa9a2052b",
   "metadata": {
    "tags": []
   },
   "outputs": [
    {
     "name": "stdout",
     "output_type": "stream",
     "text": [
      "1 2\n"
     ]
    }
   ],
   "source": [
    "print(*[1, 2])"
   ]
  },
  {
   "cell_type": "code",
   "execution_count": 27,
   "id": "e5c8be3b-8cef-4e27-bdbb-9d1c02c0d788",
   "metadata": {
    "tags": []
   },
   "outputs": [
    {
     "name": "stdout",
     "output_type": "stream",
     "text": [
      "[1, 2]\n"
     ]
    }
   ],
   "source": [
    "print([1, 2])"
   ]
  },
  {
   "cell_type": "markdown",
   "id": "62584a0a-8d48-4730-95aa-5a8b503a8797",
   "metadata": {},
   "source": [
    "#### Pattern Matching with Sequences\n",
    "\n",
    "- match/case statement (Since Python 3.10)"
   ]
  },
  {
   "cell_type": "code",
   "execution_count": 42,
   "id": "f66921ba-157f-4f9d-ab7c-2298bcdc9cfb",
   "metadata": {
    "tags": []
   },
   "outputs": [],
   "source": [
    "def number_to_string(argument):\n",
    "    match argument:\n",
    "        case a, b, c:\n",
    "            return a, b, c\n",
    "        case a, b, c, d:\n",
    "            return a, b, c, d\n",
    "        case a, b, *extra:\n",
    "            return a, b\n",
    "        case default:\n",
    "            return None"
   ]
  },
  {
   "cell_type": "code",
   "execution_count": 43,
   "id": "1ed4bac2-7326-43e7-9e69-c29c5392d593",
   "metadata": {
    "tags": []
   },
   "outputs": [
    {
     "data": {
      "text/plain": [
       "(1, 2, 3)"
      ]
     },
     "execution_count": 43,
     "metadata": {},
     "output_type": "execute_result"
    }
   ],
   "source": [
    "number_to_string((1, 2, 3))"
   ]
  },
  {
   "cell_type": "code",
   "execution_count": 44,
   "id": "b2c5514c-c37e-45b2-90f2-46e87f24784f",
   "metadata": {
    "tags": []
   },
   "outputs": [
    {
     "data": {
      "text/plain": [
       "(1, 2, 3, 4)"
      ]
     },
     "execution_count": 44,
     "metadata": {},
     "output_type": "execute_result"
    }
   ],
   "source": [
    "number_to_string((1, 2, 3, 4))"
   ]
  },
  {
   "cell_type": "code",
   "execution_count": 45,
   "id": "10df7c77-b7c7-44ca-957c-e06fd22ac753",
   "metadata": {
    "tags": []
   },
   "outputs": [
    {
     "data": {
      "text/plain": [
       "(1, 2)"
      ]
     },
     "execution_count": 45,
     "metadata": {},
     "output_type": "execute_result"
    }
   ],
   "source": [
    "number_to_string((1, 2, 3, 4, 5))"
   ]
  },
  {
   "cell_type": "code",
   "execution_count": 46,
   "id": "886f045b-79e0-4d11-bffc-c58e830ee8ca",
   "metadata": {
    "tags": []
   },
   "outputs": [],
   "source": [
    "number_to_string(())"
   ]
  },
  {
   "cell_type": "code",
   "execution_count": 47,
   "id": "10f36f38-3ad6-4090-98b0-9f863f5daddc",
   "metadata": {
    "tags": []
   },
   "outputs": [
    {
     "ename": "ValueError",
     "evalue": "too many values to unpack (expected 2)",
     "output_type": "error",
     "traceback": [
      "\u001b[1;31m---------------------------------------------------------------------------\u001b[0m",
      "\u001b[1;31mValueError\u001b[0m                                Traceback (most recent call last)",
      "Cell \u001b[1;32mIn[47], line 1\u001b[0m\n\u001b[1;32m----> 1\u001b[0m a, b \u001b[38;5;241m=\u001b[39m (\u001b[38;5;241m1\u001b[39m, \u001b[38;5;241m2\u001b[39m, \u001b[38;5;241m3\u001b[39m, \u001b[38;5;241m4\u001b[39m)\n",
      "\u001b[1;31mValueError\u001b[0m: too many values to unpack (expected 2)"
     ]
    }
   ],
   "source": [
    "a, b = (1, 2, 3, 4)"
   ]
  },
  {
   "cell_type": "code",
   "execution_count": 51,
   "id": "cfd46aa5-6118-4f34-a549-370b7c9981f6",
   "metadata": {
    "tags": []
   },
   "outputs": [
    {
     "data": {
      "text/plain": [
       "(1, [2, 3, 4])"
      ]
     },
     "execution_count": 51,
     "metadata": {},
     "output_type": "execute_result"
    }
   ],
   "source": [
    "a, *b = (1, 2, 3, 4)\n",
    "a, b"
   ]
  },
  {
   "cell_type": "code",
   "execution_count": 55,
   "id": "26ba5270-5cfe-4cea-b7eb-9cac3a2619b8",
   "metadata": {
    "tags": []
   },
   "outputs": [
    {
     "data": {
      "text/plain": [
       "(1, 2, 3, 4)"
      ]
     },
     "execution_count": 55,
     "metadata": {},
     "output_type": "execute_result"
    }
   ],
   "source": [
    "a, *b = (1, 2, 3, 4)\n",
    "a, *b"
   ]
  },
  {
   "cell_type": "code",
   "execution_count": 53,
   "id": "7727a294-ba62-4024-bc3e-5b4c862ff6e1",
   "metadata": {
    "tags": []
   },
   "outputs": [
    {
     "data": {
      "text/plain": [
       "(1, [2, 3, 4])"
      ]
     },
     "execution_count": 53,
     "metadata": {},
     "output_type": "execute_result"
    }
   ],
   "source": [
    "(a, *b) = (1, 2, 3, 4)\n",
    "a, b"
   ]
  },
  {
   "cell_type": "code",
   "execution_count": 54,
   "id": "1f6df0a4-ea7b-482f-a224-05f1187f0565",
   "metadata": {
    "tags": []
   },
   "outputs": [
    {
     "data": {
      "text/plain": [
       "(1, [2, 3, 4])"
      ]
     },
     "execution_count": 54,
     "metadata": {},
     "output_type": "execute_result"
    }
   ],
   "source": [
    "a, *b = 1, 2, 3, 4\n",
    "a, b"
   ]
  },
  {
   "cell_type": "markdown",
   "id": "2e9c80e3-02bc-425b-b2af-706c359bf288",
   "metadata": {},
   "source": [
    "#### match/case with if"
   ]
  },
  {
   "cell_type": "code",
   "execution_count": 56,
   "id": "7cded7c3-804a-4bff-bd94-4aa2739ac60d",
   "metadata": {
    "tags": []
   },
   "outputs": [],
   "source": [
    "def number_to_string(argument):\n",
    "    match argument:\n",
    "        case a, b, c if a == 1:\n",
    "            return a, b, c\n",
    "        case a, b, c, d:\n",
    "            return a, b, c, d\n",
    "        case a, b, *extra:\n",
    "            return a, b\n",
    "        case default:\n",
    "            return None"
   ]
  },
  {
   "cell_type": "code",
   "execution_count": 57,
   "id": "0fbd16da-9bf9-4c7e-8a34-6b0eb11a10d3",
   "metadata": {
    "tags": []
   },
   "outputs": [
    {
     "data": {
      "text/plain": [
       "(1, 2, 3)"
      ]
     },
     "execution_count": 57,
     "metadata": {},
     "output_type": "execute_result"
    }
   ],
   "source": [
    "number_to_string((1, 2, 3))"
   ]
  },
  {
   "cell_type": "code",
   "execution_count": 58,
   "id": "545be1f4-d317-4182-8f1c-9b6d9e46944d",
   "metadata": {
    "tags": []
   },
   "outputs": [
    {
     "data": {
      "text/plain": [
       "(2, 2)"
      ]
     },
     "execution_count": 58,
     "metadata": {},
     "output_type": "execute_result"
    }
   ],
   "source": [
    "number_to_string((2, 2, 3))"
   ]
  },
  {
   "cell_type": "markdown",
   "id": "1b8e2ea6-5b84-486f-8445-fb61a1c0c57a",
   "metadata": {},
   "source": [
    "#### binding"
   ]
  },
  {
   "cell_type": "code",
   "execution_count": 59,
   "id": "7d439dcb-6cbd-460d-9a9b-42650cec6ea8",
   "metadata": {
    "tags": []
   },
   "outputs": [],
   "source": [
    "def number_to_string(argument):\n",
    "    match argument:\n",
    "        case a, b, c as res:\n",
    "            return res\n",
    "        case a, b, c, d:\n",
    "            return a, b, c, d\n",
    "        case a, b, *extra:\n",
    "            return a, b\n",
    "        case default:\n",
    "            return None"
   ]
  },
  {
   "cell_type": "code",
   "execution_count": 60,
   "id": "320c9ec1-d7e4-4b7c-8409-d622b3fe759f",
   "metadata": {
    "tags": []
   },
   "outputs": [
    {
     "data": {
      "text/plain": [
       "3"
      ]
     },
     "execution_count": 60,
     "metadata": {},
     "output_type": "execute_result"
    }
   ],
   "source": [
    "number_to_string((1, 2, 3))"
   ]
  },
  {
   "cell_type": "code",
   "execution_count": 70,
   "id": "9c579ec4-a440-4c54-94d1-b046d0424d05",
   "metadata": {
    "tags": []
   },
   "outputs": [],
   "source": [
    "def number_to_string(argument):\n",
    "    match argument:\n",
    "        case (a, b, c) as res:\n",
    "            return res\n",
    "        case a, b, c, d:\n",
    "            return a, b, c, d\n",
    "        case a, b, *extra:\n",
    "            return a, b\n",
    "        case default:\n",
    "            return None"
   ]
  },
  {
   "cell_type": "code",
   "execution_count": 71,
   "id": "91cc0ad3-e92d-46b0-b857-58e37fc2de56",
   "metadata": {
    "tags": []
   },
   "outputs": [
    {
     "data": {
      "text/plain": [
       "(1, 2, 3)"
      ]
     },
     "execution_count": 71,
     "metadata": {},
     "output_type": "execute_result"
    }
   ],
   "source": [
    "number_to_string((1, 2, 3))"
   ]
  },
  {
   "cell_type": "markdown",
   "id": "acd53880-9db1-43f8-84d9-f037b74c6518",
   "metadata": {},
   "source": [
    "#### adding type information"
   ]
  },
  {
   "cell_type": "code",
   "execution_count": 72,
   "id": "3be72cbd-56c1-4d9b-a167-93e7b92d6c47",
   "metadata": {
    "tags": []
   },
   "outputs": [],
   "source": [
    "def number_to_string(argument):\n",
    "    match argument:\n",
    "        case a, b, int(c) as res:\n",
    "            return res\n",
    "        case a, b, c, d:\n",
    "            return a, b, c, d\n",
    "        case a, b, *extra:\n",
    "            return a, b\n",
    "        case default:\n",
    "            return None"
   ]
  },
  {
   "cell_type": "code",
   "execution_count": 73,
   "id": "238b36cd-ed9e-4841-b4a4-4dec3a0cdb62",
   "metadata": {
    "tags": []
   },
   "outputs": [
    {
     "data": {
      "text/plain": [
       "3"
      ]
     },
     "execution_count": 73,
     "metadata": {},
     "output_type": "execute_result"
    }
   ],
   "source": [
    "number_to_string((1, 2, 3))"
   ]
  },
  {
   "cell_type": "code",
   "execution_count": 74,
   "id": "06e5873a-2eab-41b7-9485-3a9e25459205",
   "metadata": {
    "tags": []
   },
   "outputs": [
    {
     "data": {
      "text/plain": [
       "(1, 2)"
      ]
     },
     "execution_count": 74,
     "metadata": {},
     "output_type": "execute_result"
    }
   ],
   "source": [
    "number_to_string((1, 2, 3.1))"
   ]
  },
  {
   "cell_type": "markdown",
   "id": "a3871e1f-9945-44aa-a57d-a85a2f4c15f4",
   "metadata": {},
   "source": [
    "#### Slicing\n",
    "\n",
    "- all sequence types in Python support slicing operations\n",
    "\n",
    "##### seq[start:stop:step]\n",
    "\n",
    "##### seq.\\_\\_getitem\\_\\_(slice(start, stop, step))"
   ]
  },
  {
   "cell_type": "code",
   "execution_count": 12,
   "id": "e463a14c-c466-4c65-834b-91ae531ef68e",
   "metadata": {},
   "outputs": [
    {
     "name": "stdout",
     "output_type": "stream",
     "text": [
      "(1, 2, 3, 4, 5)\n",
      "(1, 2, 3, 4, 5)\n",
      "(1, 2, 3, 4, 5)\n",
      "(1, 2, 3, 4, 5)\n"
     ]
    }
   ],
   "source": [
    "s = (1, 2, 3, 4, 5)\n",
    "\n",
    "print(s[0:5:1])\n",
    "print(s.__getitem__((slice(0, 5, 1))))\n",
    "\n",
    "print(s[(slice(0, 5, 1))])\n",
    "print(s[slice(0, 5, 1)])"
   ]
  },
  {
   "cell_type": "markdown",
   "id": "38f1e89d-6663-4eb0-bf4a-df465abc1290",
   "metadata": {},
   "source": [
    "#### Using + and * with Sequences\n",
    "\n",
    "- Both + and * always create a new object, and never change their operands"
   ]
  },
  {
   "cell_type": "code",
   "execution_count": 20,
   "id": "8b2c5099-9a6d-4922-ac95-20fad1c8647f",
   "metadata": {
    "tags": []
   },
   "outputs": [
    {
     "name": "stdout",
     "output_type": "stream",
     "text": [
      "2666984565568\n",
      "[1, 2, 3, 4, 5, 6]\n",
      "2666984564480\n"
     ]
    }
   ],
   "source": [
    "a = [1, 2, 3]\n",
    "print(id(a))\n",
    "b = [4, 5, 6]\n",
    "a = a + b\n",
    "print(a)\n",
    "print(id(a))"
   ]
  },
  {
   "cell_type": "code",
   "execution_count": 21,
   "id": "0312a82f-8810-4255-a99d-db0b97886b4e",
   "metadata": {
    "tags": []
   },
   "outputs": [
    {
     "name": "stdout",
     "output_type": "stream",
     "text": [
      "2666984442688\n",
      "[1, 2, 3, 4, 5, 6]\n",
      "2666984442688\n"
     ]
    }
   ],
   "source": [
    "a = [1, 2, 3]\n",
    "print(id(a))\n",
    "b = [4, 5, 6]\n",
    "a += b\n",
    "print(a)\n",
    "print(id(a))"
   ]
  },
  {
   "cell_type": "code",
   "execution_count": 25,
   "id": "eae44d03-408f-4f5b-aa38-7650af9e70a4",
   "metadata": {
    "tags": []
   },
   "outputs": [
    {
     "name": "stdout",
     "output_type": "stream",
     "text": [
      "2666963214528\n",
      "[1, 2, 3, 1, 2, 3]\n",
      "2666962183232\n"
     ]
    }
   ],
   "source": [
    "a = [1, 2, 3]\n",
    "print(id(a))\n",
    "a = a*2\n",
    "print(a)\n",
    "print(id(a))"
   ]
  },
  {
   "cell_type": "code",
   "execution_count": 27,
   "id": "c8de9a37-e992-4a04-bf37-f7503ed59213",
   "metadata": {
    "tags": []
   },
   "outputs": [
    {
     "name": "stdout",
     "output_type": "stream",
     "text": [
      "2666984721216\n",
      "[1, 2, 3, 1, 2, 3]\n",
      "2666984721216\n"
     ]
    }
   ],
   "source": [
    "a = [1, 2, 3]\n",
    "print(id(a))\n",
    "a *= 2\n",
    "print(a)\n",
    "print(id(a))"
   ]
  },
  {
   "cell_type": "markdown",
   "id": "51ad8fac-4ec7-4386-8a4d-621735860e0f",
   "metadata": {},
   "source": [
    "####   += and *= are translates to \\_\\_iadd\\_\\_ and \\_\\_imul\\_\\_"
   ]
  },
  {
   "cell_type": "markdown",
   "id": "db521237-f60f-457a-a989-9e7e94b5a928",
   "metadata": {},
   "source": [
    "#### list.sort Versus the sorted Built-In\n",
    "\n",
    "- list.sort method sorts a list in place. It returns None.\n",
    "\n",
    "- the built-in function sorted creates a new list and returns it.\n",
    "\n",
    "- Both list.sort and sorted take two optional, keyword-only arguments:\n",
    "    - reverse \n",
    "        - If True, the items are returned in descending order (i.e., by reversing the comparison of the items). The default is False.\n",
    "    - key\n",
    "        - A one-argument function that will be applied to each item to produce its sorting key."
   ]
  },
  {
   "cell_type": "code",
   "execution_count": 29,
   "id": "c380712a-d725-4de5-a206-c09f368152ba",
   "metadata": {
    "tags": []
   },
   "outputs": [
    {
     "name": "stdout",
     "output_type": "stream",
     "text": [
      "None\n"
     ]
    }
   ],
   "source": [
    "print(['fruits', 'books', 'rivers'].sort())"
   ]
  },
  {
   "cell_type": "code",
   "execution_count": 30,
   "id": "66ad2846-ba02-4bca-9db6-d2238d6594ee",
   "metadata": {
    "tags": []
   },
   "outputs": [
    {
     "name": "stdout",
     "output_type": "stream",
     "text": [
      "['books', 'fruits', 'rivers']\n"
     ]
    }
   ],
   "source": [
    "print(sorted(['fruits', 'books', 'rivers']))"
   ]
  },
  {
   "cell_type": "code",
   "execution_count": 41,
   "id": "68c5d5db-2afc-48e4-9952-33a041449c4f",
   "metadata": {
    "tags": []
   },
   "outputs": [
    {
     "name": "stdout",
     "output_type": "stream",
     "text": [
      "[('dave', 'B', 10), ('jane', 'B', 12), ('john', 'A', 15)]\n"
     ]
    }
   ],
   "source": [
    "def get_age(item):\n",
    "    return item[2]\n",
    "\n",
    "print(sorted([\n",
    "                ('john', 'A', 15),\n",
    "                ('jane', 'B', 12),\n",
    "                ('dave', 'B', 10),\n",
    "            ], key=get_age))"
   ]
  },
  {
   "cell_type": "code",
   "execution_count": 43,
   "id": "ac715289-1834-40a9-954e-d19c912c5f98",
   "metadata": {
    "tags": []
   },
   "outputs": [
    {
     "name": "stdout",
     "output_type": "stream",
     "text": [
      "[('dave', 'B', 10), ('jane', 'B', 12), ('john', 'A', 15)]\n"
     ]
    }
   ],
   "source": [
    "print(sorted([\n",
    "                ('john', 'A', 15),\n",
    "                ('jane', 'B', 12),\n",
    "                ('dave', 'B', 10),\n",
    "            ], key=lambda item: item[2]))"
   ]
  },
  {
   "cell_type": "markdown",
   "id": "52243808-9b7f-4fd5-a914-a5d097008993",
   "metadata": {},
   "source": [
    "#### Arrays\n",
    "\n",
    "- If a list only contains numbers, an array.array is a more efficient replacement."
   ]
  },
  {
   "cell_type": "code",
   "execution_count": 9,
   "id": "7760aa1e-2cc9-4ebd-a7a1-6b98ec53773a",
   "metadata": {
    "tags": []
   },
   "outputs": [],
   "source": [
    "from array import array\n",
    "import sys"
   ]
  },
  {
   "cell_type": "code",
   "execution_count": 7,
   "id": "cf62cce5-bc0e-4956-8176-f90550a004d8",
   "metadata": {},
   "outputs": [
    {
     "name": "stdout",
     "output_type": "stream",
     "text": [
      "198 µs ± 43.7 µs per loop (mean ± std. dev. of 7 runs, 1,000 loops each)\n"
     ]
    }
   ],
   "source": [
    "%%timeit\n",
    "array('d', (i for i in range(10**3)))"
   ]
  },
  {
   "cell_type": "code",
   "execution_count": 10,
   "id": "21b11785-1a10-4f40-87f9-39a9e88e0385",
   "metadata": {
    "tags": []
   },
   "outputs": [
    {
     "data": {
      "text/plain": [
       "8320"
      ]
     },
     "execution_count": 10,
     "metadata": {},
     "output_type": "execute_result"
    }
   ],
   "source": [
    "sys.getsizeof(array('d', (i for i in range(10**3))))"
   ]
  },
  {
   "cell_type": "code",
   "execution_count": 8,
   "id": "198d9d77-ebf5-4f14-86ab-5452121d5d06",
   "metadata": {
    "tags": []
   },
   "outputs": [
    {
     "name": "stdout",
     "output_type": "stream",
     "text": [
      "74.6 µs ± 6.39 µs per loop (mean ± std. dev. of 7 runs, 10,000 loops each)\n"
     ]
    }
   ],
   "source": [
    "%%timeit\n",
    "list((i for i in range(10**3)))"
   ]
  },
  {
   "cell_type": "code",
   "execution_count": 11,
   "id": "fd0054df-7cd0-441c-8423-57ce604af8cd",
   "metadata": {
    "tags": []
   },
   "outputs": [
    {
     "data": {
      "text/plain": [
       "8856"
      ]
     },
     "execution_count": 11,
     "metadata": {},
     "output_type": "execute_result"
    }
   ],
   "source": [
    "sys.getsizeof(list((i for i in range(10**3))))"
   ]
  },
  {
   "cell_type": "markdown",
   "id": "0f3f9e92-001f-4977-b33f-40731a2330c0",
   "metadata": {},
   "source": [
    "#### Memory Views\n",
    "\n",
    "- The built-in memoryview class is a shared-memory sequence type that lets you handle slices of arrays without copying bytes."
   ]
  },
  {
   "cell_type": "code",
   "execution_count": 12,
   "id": "5c72ab52-ac3e-4700-904c-30a6cf670a01",
   "metadata": {
    "tags": []
   },
   "outputs": [],
   "source": [
    "octets = array('B', range(6))"
   ]
  },
  {
   "cell_type": "code",
   "execution_count": 13,
   "id": "412d77d0-3416-4e70-80bd-747f9086ad47",
   "metadata": {
    "tags": []
   },
   "outputs": [],
   "source": [
    "m1 = memoryview(octets)"
   ]
  },
  {
   "cell_type": "code",
   "execution_count": 14,
   "id": "29d57f0a-bc8e-4bca-98f6-7f7683ee0234",
   "metadata": {
    "tags": []
   },
   "outputs": [
    {
     "data": {
      "text/plain": [
       "[0, 1, 2, 3, 4, 5]"
      ]
     },
     "execution_count": 14,
     "metadata": {},
     "output_type": "execute_result"
    }
   ],
   "source": [
    "m1.tolist()"
   ]
  },
  {
   "cell_type": "code",
   "execution_count": 15,
   "id": "21dea8fc-cdea-468e-a5cc-a193faa6a422",
   "metadata": {
    "tags": []
   },
   "outputs": [],
   "source": [
    "m2 = m1.cast('B', [2, 3])"
   ]
  },
  {
   "cell_type": "code",
   "execution_count": 16,
   "id": "17f30ef7-a5d4-40e6-8de4-824015ad384b",
   "metadata": {
    "tags": []
   },
   "outputs": [
    {
     "data": {
      "text/plain": [
       "[[0, 1, 2], [3, 4, 5]]"
      ]
     },
     "execution_count": 16,
     "metadata": {},
     "output_type": "execute_result"
    }
   ],
   "source": [
    "m2.tolist()"
   ]
  },
  {
   "cell_type": "code",
   "execution_count": 17,
   "id": "0ea3fbf5-0a1b-4a27-9057-da47da69826a",
   "metadata": {
    "tags": []
   },
   "outputs": [],
   "source": [
    "m3 = m1.cast('B', [3, 2])"
   ]
  },
  {
   "cell_type": "code",
   "execution_count": 18,
   "id": "dddb741b-eb32-4d86-a2af-ab9f7050dd05",
   "metadata": {
    "tags": []
   },
   "outputs": [
    {
     "data": {
      "text/plain": [
       "[[0, 1], [2, 3], [4, 5]]"
      ]
     },
     "execution_count": 18,
     "metadata": {},
     "output_type": "execute_result"
    }
   ],
   "source": [
    "m3.tolist()"
   ]
  },
  {
   "cell_type": "code",
   "execution_count": 19,
   "id": "a096a37f-127c-4605-9f66-0f8a5648e3d5",
   "metadata": {
    "tags": []
   },
   "outputs": [],
   "source": [
    "m2[1,1] = 22"
   ]
  },
  {
   "cell_type": "code",
   "execution_count": 20,
   "id": "874774e6-5b78-4c6b-8f00-47ac56312721",
   "metadata": {
    "tags": []
   },
   "outputs": [],
   "source": [
    "m3[1,1] = 33"
   ]
  },
  {
   "cell_type": "code",
   "execution_count": 22,
   "id": "6615027f-a471-48ad-82d6-ba0b555a9ace",
   "metadata": {
    "tags": []
   },
   "outputs": [
    {
     "data": {
      "text/plain": [
       "array('B', [0, 1, 2, 33, 22, 5])"
      ]
     },
     "execution_count": 22,
     "metadata": {},
     "output_type": "execute_result"
    }
   ],
   "source": [
    "octets"
   ]
  },
  {
   "cell_type": "markdown",
   "id": "310dd607-a801-438d-a60b-a362f3ea4974",
   "metadata": {},
   "source": [
    "#### NumPy\n",
    "\n",
    "- for advanced array and matrix operations\n",
    "- for scientific computing algorithms - linear algebra, numerical calculus, and statistics"
   ]
  },
  {
   "cell_type": "code",
   "execution_count": 26,
   "id": "b9779852-7f4c-435d-a1ab-e3046b041b06",
   "metadata": {
    "tags": []
   },
   "outputs": [],
   "source": [
    "import numpy as np"
   ]
  },
  {
   "cell_type": "code",
   "execution_count": 27,
   "id": "a6adc707-26b3-4afd-90a8-f7887946a386",
   "metadata": {
    "tags": []
   },
   "outputs": [],
   "source": [
    "a = np.arange(12)"
   ]
  },
  {
   "cell_type": "code",
   "execution_count": 28,
   "id": "7c1ff810-1fac-4818-ba7b-855019734610",
   "metadata": {
    "tags": []
   },
   "outputs": [
    {
     "data": {
      "text/plain": [
       "array([ 0,  1,  2,  3,  4,  5,  6,  7,  8,  9, 10, 11])"
      ]
     },
     "execution_count": 28,
     "metadata": {},
     "output_type": "execute_result"
    }
   ],
   "source": [
    "a"
   ]
  },
  {
   "cell_type": "code",
   "execution_count": 29,
   "id": "1bb1da2e-8868-4404-b0bb-253f20f49a8e",
   "metadata": {
    "tags": []
   },
   "outputs": [],
   "source": [
    "a.shape = 3, 4"
   ]
  },
  {
   "cell_type": "code",
   "execution_count": 30,
   "id": "d62f822d-69e9-48f0-a95b-e39fc9f907ae",
   "metadata": {
    "tags": []
   },
   "outputs": [
    {
     "data": {
      "text/plain": [
       "array([[ 0,  1,  2,  3],\n",
       "       [ 4,  5,  6,  7],\n",
       "       [ 8,  9, 10, 11]])"
      ]
     },
     "execution_count": 30,
     "metadata": {},
     "output_type": "execute_result"
    }
   ],
   "source": [
    "a"
   ]
  },
  {
   "cell_type": "code",
   "execution_count": 31,
   "id": "7902d962-0a34-4737-9f3a-ea8f281af592",
   "metadata": {
    "tags": []
   },
   "outputs": [
    {
     "data": {
      "text/plain": [
       "array([[ 0,  4,  8],\n",
       "       [ 1,  5,  9],\n",
       "       [ 2,  6, 10],\n",
       "       [ 3,  7, 11]])"
      ]
     },
     "execution_count": 31,
     "metadata": {},
     "output_type": "execute_result"
    }
   ],
   "source": [
    "a.transpose()"
   ]
  },
  {
   "cell_type": "markdown",
   "id": "726fc299-05be-4d33-a8da-16ca5fda422c",
   "metadata": {},
   "source": [
    "#### Deques and Other Queues\n",
    "\n",
    "- with .append and .pop(0) on a list, you get FIFO behavior, but it is costly because the entire list must be shifted in memory\n",
    "\n",
    "- The class collections.deque is a thread-safe double-ended queue designed for fast inserting and removing from both ends. Possible use case - list of \"n last seen items\""
   ]
  },
  {
   "cell_type": "code",
   "execution_count": 32,
   "id": "10322912-5b15-4b87-b611-f56671bb20b5",
   "metadata": {
    "tags": []
   },
   "outputs": [],
   "source": [
    "from collections import deque"
   ]
  },
  {
   "cell_type": "code",
   "execution_count": 33,
   "id": "ef5d0ff6-7080-44f3-8363-98b55dcc0dd5",
   "metadata": {
    "tags": []
   },
   "outputs": [],
   "source": [
    "dq = deque(range(10), maxlen=10)"
   ]
  },
  {
   "cell_type": "code",
   "execution_count": 34,
   "id": "9d5da859-0084-4d43-a636-fc7bb93ac282",
   "metadata": {
    "tags": []
   },
   "outputs": [
    {
     "data": {
      "text/plain": [
       "deque([0, 1, 2, 3, 4, 5, 6, 7, 8, 9], maxlen=10)"
      ]
     },
     "execution_count": 34,
     "metadata": {},
     "output_type": "execute_result"
    }
   ],
   "source": [
    "dq"
   ]
  },
  {
   "cell_type": "code",
   "execution_count": 35,
   "id": "08adc4d9-6cd3-448e-9398-106564030204",
   "metadata": {
    "tags": []
   },
   "outputs": [],
   "source": [
    "dq.appendleft(-1)"
   ]
  },
  {
   "cell_type": "code",
   "execution_count": 36,
   "id": "b635e6b4-758a-4776-982f-373b9cd2d8ef",
   "metadata": {
    "tags": []
   },
   "outputs": [
    {
     "data": {
      "text/plain": [
       "deque([-1, 0, 1, 2, 3, 4, 5, 6, 7, 8], maxlen=10)"
      ]
     },
     "execution_count": 36,
     "metadata": {},
     "output_type": "execute_result"
    }
   ],
   "source": [
    "dq"
   ]
  },
  {
   "cell_type": "code",
   "execution_count": 37,
   "id": "56ce6ca5-5b27-4c7c-bc30-e338f8917b78",
   "metadata": {
    "tags": []
   },
   "outputs": [],
   "source": [
    "dq.extend([11, 22, 33])"
   ]
  },
  {
   "cell_type": "code",
   "execution_count": 38,
   "id": "e202702a-566f-460f-974e-da4ea89ee622",
   "metadata": {
    "tags": []
   },
   "outputs": [
    {
     "data": {
      "text/plain": [
       "deque([2, 3, 4, 5, 6, 7, 8, 11, 22, 33], maxlen=10)"
      ]
     },
     "execution_count": 38,
     "metadata": {},
     "output_type": "execute_result"
    }
   ],
   "source": [
    "dq"
   ]
  },
  {
   "cell_type": "markdown",
   "id": "6b10b5f0-7a73-416c-96ca-5ac13d399194",
   "metadata": {},
   "source": [
    "#### Besides deque, other Python standard library packages implement queues\n",
    "\n",
    "- queue\n",
    "    - SimpleQueue (bounded by a max size argument, when the queue is full, the insertion of a new item blocks until removed by another thread - can be used for throttling)\n",
    "    - Queue\n",
    "    - LifoQueue\n",
    "    - PriorityQueue\n",
    "    \n",
    "- multiprocessing (inter-process communication)\n",
    "    - SimpleQueue\n",
    "    - Queue\n",
    "    \n",
    "- asyncio (asynchronous programming)\n",
    "    - Queue\n",
    "    - LifoQueue\n",
    "    - PriorityQueue\n",
    "    - JoinableQueue\n",
    "    \n",
    "- heapq (heap queue or priority queue)"
   ]
  },
  {
   "cell_type": "code",
   "execution_count": null,
   "id": "7f946526-71fc-4ef9-a11e-4c0be2ee1369",
   "metadata": {},
   "outputs": [],
   "source": []
  }
 ],
 "metadata": {
  "kernelspec": {
   "display_name": "Python 3 (ipykernel)",
   "language": "python",
   "name": "python3"
  },
  "language_info": {
   "codemirror_mode": {
    "name": "ipython",
    "version": 3
   },
   "file_extension": ".py",
   "mimetype": "text/x-python",
   "name": "python",
   "nbconvert_exporter": "python",
   "pygments_lexer": "ipython3",
   "version": "3.10.7"
  }
 },
 "nbformat": 4,
 "nbformat_minor": 5
}
